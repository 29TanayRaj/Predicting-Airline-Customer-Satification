{
 "cells": [
  {
   "cell_type": "markdown",
   "metadata": {},
   "source": [
    "# Airline Customer Satifaction\n",
    "\n",
    "An airline company wants to perdict whether a customer is left satisfied with thier flight or not.\n",
    "\n",
    "Airline satisfaction is important for several reasons:\n",
    "\n",
    "- Customer Retention: Satisfied customers are more likely to continue using the services of an airline, leading to repeat business and customer loyalty.\n",
    "\n",
    "- Reputation Management: Positive experiences lead to favorable word-of-mouth recommendations and reviews, which can enhance the airline's reputation and attract new customers.\n",
    "\n",
    "- Competitive Advantage: In an industry as competitive as the airline industry, customer satisfaction can serve as a differentiator. Airlines that consistently deliver satisfactory experiences may gain a competitive edge over their rivals.\n",
    "\n",
    "- Revenue Generation: Satisfied customers are more likely to spend money on additional services or upgrades, such as seat upgrades, in-flight meals, or priority boarding, contributing to the airline's revenue.\n",
    "\n",
    "- Cost Reduction: High levels of customer satisfaction can reduce costs associated with customer complaints, refunds, and compensations for poor service experiences.\n",
    "\n",
    "- Regulatory Compliance: Many aviation authorities require airlines to meet certain standards of customer service and satisfaction as part of their regulatory obligations.\n",
    "\n",
    "Overall, ensuring customer satisfaction is crucial for the long-term success and sustainability of an airline business.\n"
   ]
  },
  {
   "cell_type": "markdown",
   "metadata": {},
   "source": [
    "### Approch: A Deep Learning approch is used in the notebook, the model is built using ANN. "
   ]
  },
  {
   "cell_type": "code",
   "execution_count": 1,
   "metadata": {},
   "outputs": [],
   "source": [
    "# Importing the required dependencies\n",
    "import numpy as np \n",
    "import matplotlib.pyplot as plt \n",
    "import seaborn as sns \n",
    "\n",
    "# Importing the required libraries for the 3rd problem \n",
    "from sklearn import datasets\n",
    "import tensorflow as tf \n",
    "import pandas as pd\n",
    "from sklearn.preprocessing import StandardScaler\n",
    "from sklearn.model_selection import train_test_split\n",
    "\n",
    "from tensorflow import keras\n",
    "from keras.models import Sequential\n",
    "from keras.layers import Dense,Activation,Dropout \n",
    "from keras.layers import BatchNormalization \n",
    "from keras.callbacks import EarlyStopping\n",
    "from sklearn.model_selection import KFold\n",
    "from sklearn.preprocessing import LabelEncoder,StandardScaler\n",
    "from sklearn.metrics import classification_report,accuracy_score,confusion_matrix\n",
    "import keras_tuner as kt"
   ]
  },
  {
   "cell_type": "markdown",
   "metadata": {},
   "source": [
    "### Importing the dataset and doing preprocessing."
   ]
  },
  {
   "cell_type": "code",
   "execution_count": 2,
   "metadata": {},
   "outputs": [],
   "source": [
    "dataset = pd.read_csv('train.csv')\n"
   ]
  },
  {
   "cell_type": "markdown",
   "metadata": {},
   "source": [
    "### About the columns in the dataframe.\n",
    "\n",
    "1. Unnamed:0 - Serial Number.\n",
    "2. id - Unique customer.\n",
    "3. Gender - Gender of the customer, classified as male and female.\n",
    "4. Customer Type - Classifies the customer in loyal and disloyal customer. \n",
    "5. Age - age of the customer.\n",
    "6. Type of Travel - Gives purpose of travel of the customer.\n",
    "7. Class - Type of flight seats.\n",
    "8. Inflight wifi serivce - Rating  for inflight wifi services.\n",
    "9. Departure/Arrival time convenient - Rading given for Arrival and Departure timming. \n",
    "10. Ease of Online booking - Rating  for online booking. \n",
    "11. Gate location - Rating  for the location of the gate, given as per as convienence of the passangers to reach the gate.\n",
    "12. Food and drink - Rating  for the food and drinks of the flight. \n",
    "13. Online boarding - Rating  for online boarding process for the flight. \n",
    "14. Seat comfort - Rating for seat confort.\n",
    "15. Inflight entertainment - Rating for whether the amnities like magzines, movies, drinks etc. were satifactory or not.\n",
    "16. Leg room service - Rating given for leg room service at the airport.\n",
    "17. Baggage handling - Rating for baggage handling.\n",
    "18. Checkin service - Rating for checkin process.\n",
    "19. Inflight service - Rating for inflight services includes flight attendents. \n",
    "20. Cleanliness - Rating for how clean the flight was.\n",
    "21. Departure Delay in Minutes - Delay in Departure timmings.\n",
    "22. Arrival Delay in Minutes - Quantifies how late the flight reached their destination. \n",
    "23. satisfaction (Target Variable) - Classifies the customers into two categories 'satisfied' or 'neutral or dissatisfied'."
   ]
  },
  {
   "cell_type": "code",
   "execution_count": 3,
   "metadata": {},
   "outputs": [
    {
     "data": {
      "text/html": [
       "<div>\n",
       "<style scoped>\n",
       "    .dataframe tbody tr th:only-of-type {\n",
       "        vertical-align: middle;\n",
       "    }\n",
       "\n",
       "    .dataframe tbody tr th {\n",
       "        vertical-align: top;\n",
       "    }\n",
       "\n",
       "    .dataframe thead th {\n",
       "        text-align: right;\n",
       "    }\n",
       "</style>\n",
       "<table border=\"1\" class=\"dataframe\">\n",
       "  <thead>\n",
       "    <tr style=\"text-align: right;\">\n",
       "      <th></th>\n",
       "      <th>Unnamed: 0</th>\n",
       "      <th>id</th>\n",
       "      <th>Gender</th>\n",
       "      <th>Customer Type</th>\n",
       "      <th>Age</th>\n",
       "      <th>Type of Travel</th>\n",
       "      <th>Class</th>\n",
       "      <th>Flight Distance</th>\n",
       "      <th>Inflight wifi service</th>\n",
       "      <th>Departure/Arrival time convenient</th>\n",
       "      <th>...</th>\n",
       "      <th>Inflight entertainment</th>\n",
       "      <th>On-board service</th>\n",
       "      <th>Leg room service</th>\n",
       "      <th>Baggage handling</th>\n",
       "      <th>Checkin service</th>\n",
       "      <th>Inflight service</th>\n",
       "      <th>Cleanliness</th>\n",
       "      <th>Departure Delay in Minutes</th>\n",
       "      <th>Arrival Delay in Minutes</th>\n",
       "      <th>satisfaction</th>\n",
       "    </tr>\n",
       "  </thead>\n",
       "  <tbody>\n",
       "    <tr>\n",
       "      <th>0</th>\n",
       "      <td>0</td>\n",
       "      <td>70172</td>\n",
       "      <td>Male</td>\n",
       "      <td>Loyal Customer</td>\n",
       "      <td>13</td>\n",
       "      <td>Personal Travel</td>\n",
       "      <td>Eco Plus</td>\n",
       "      <td>460</td>\n",
       "      <td>3</td>\n",
       "      <td>4</td>\n",
       "      <td>...</td>\n",
       "      <td>5</td>\n",
       "      <td>4</td>\n",
       "      <td>3</td>\n",
       "      <td>4</td>\n",
       "      <td>4</td>\n",
       "      <td>5</td>\n",
       "      <td>5</td>\n",
       "      <td>25</td>\n",
       "      <td>18.0</td>\n",
       "      <td>neutral or dissatisfied</td>\n",
       "    </tr>\n",
       "    <tr>\n",
       "      <th>1</th>\n",
       "      <td>1</td>\n",
       "      <td>5047</td>\n",
       "      <td>Male</td>\n",
       "      <td>disloyal Customer</td>\n",
       "      <td>25</td>\n",
       "      <td>Business travel</td>\n",
       "      <td>Business</td>\n",
       "      <td>235</td>\n",
       "      <td>3</td>\n",
       "      <td>2</td>\n",
       "      <td>...</td>\n",
       "      <td>1</td>\n",
       "      <td>1</td>\n",
       "      <td>5</td>\n",
       "      <td>3</td>\n",
       "      <td>1</td>\n",
       "      <td>4</td>\n",
       "      <td>1</td>\n",
       "      <td>1</td>\n",
       "      <td>6.0</td>\n",
       "      <td>neutral or dissatisfied</td>\n",
       "    </tr>\n",
       "    <tr>\n",
       "      <th>2</th>\n",
       "      <td>2</td>\n",
       "      <td>110028</td>\n",
       "      <td>Female</td>\n",
       "      <td>Loyal Customer</td>\n",
       "      <td>26</td>\n",
       "      <td>Business travel</td>\n",
       "      <td>Business</td>\n",
       "      <td>1142</td>\n",
       "      <td>2</td>\n",
       "      <td>2</td>\n",
       "      <td>...</td>\n",
       "      <td>5</td>\n",
       "      <td>4</td>\n",
       "      <td>3</td>\n",
       "      <td>4</td>\n",
       "      <td>4</td>\n",
       "      <td>4</td>\n",
       "      <td>5</td>\n",
       "      <td>0</td>\n",
       "      <td>0.0</td>\n",
       "      <td>satisfied</td>\n",
       "    </tr>\n",
       "    <tr>\n",
       "      <th>3</th>\n",
       "      <td>3</td>\n",
       "      <td>24026</td>\n",
       "      <td>Female</td>\n",
       "      <td>Loyal Customer</td>\n",
       "      <td>25</td>\n",
       "      <td>Business travel</td>\n",
       "      <td>Business</td>\n",
       "      <td>562</td>\n",
       "      <td>2</td>\n",
       "      <td>5</td>\n",
       "      <td>...</td>\n",
       "      <td>2</td>\n",
       "      <td>2</td>\n",
       "      <td>5</td>\n",
       "      <td>3</td>\n",
       "      <td>1</td>\n",
       "      <td>4</td>\n",
       "      <td>2</td>\n",
       "      <td>11</td>\n",
       "      <td>9.0</td>\n",
       "      <td>neutral or dissatisfied</td>\n",
       "    </tr>\n",
       "    <tr>\n",
       "      <th>4</th>\n",
       "      <td>4</td>\n",
       "      <td>119299</td>\n",
       "      <td>Male</td>\n",
       "      <td>Loyal Customer</td>\n",
       "      <td>61</td>\n",
       "      <td>Business travel</td>\n",
       "      <td>Business</td>\n",
       "      <td>214</td>\n",
       "      <td>3</td>\n",
       "      <td>3</td>\n",
       "      <td>...</td>\n",
       "      <td>3</td>\n",
       "      <td>3</td>\n",
       "      <td>4</td>\n",
       "      <td>4</td>\n",
       "      <td>3</td>\n",
       "      <td>3</td>\n",
       "      <td>3</td>\n",
       "      <td>0</td>\n",
       "      <td>0.0</td>\n",
       "      <td>satisfied</td>\n",
       "    </tr>\n",
       "  </tbody>\n",
       "</table>\n",
       "<p>5 rows × 25 columns</p>\n",
       "</div>"
      ],
      "text/plain": [
       "   Unnamed: 0      id  Gender      Customer Type  Age   Type of Travel  \\\n",
       "0           0   70172    Male     Loyal Customer   13  Personal Travel   \n",
       "1           1    5047    Male  disloyal Customer   25  Business travel   \n",
       "2           2  110028  Female     Loyal Customer   26  Business travel   \n",
       "3           3   24026  Female     Loyal Customer   25  Business travel   \n",
       "4           4  119299    Male     Loyal Customer   61  Business travel   \n",
       "\n",
       "      Class  Flight Distance  Inflight wifi service  \\\n",
       "0  Eco Plus              460                      3   \n",
       "1  Business              235                      3   \n",
       "2  Business             1142                      2   \n",
       "3  Business              562                      2   \n",
       "4  Business              214                      3   \n",
       "\n",
       "   Departure/Arrival time convenient  ...  Inflight entertainment  \\\n",
       "0                                  4  ...                       5   \n",
       "1                                  2  ...                       1   \n",
       "2                                  2  ...                       5   \n",
       "3                                  5  ...                       2   \n",
       "4                                  3  ...                       3   \n",
       "\n",
       "   On-board service  Leg room service  Baggage handling  Checkin service  \\\n",
       "0                 4                 3                 4                4   \n",
       "1                 1                 5                 3                1   \n",
       "2                 4                 3                 4                4   \n",
       "3                 2                 5                 3                1   \n",
       "4                 3                 4                 4                3   \n",
       "\n",
       "   Inflight service  Cleanliness  Departure Delay in Minutes  \\\n",
       "0                 5            5                          25   \n",
       "1                 4            1                           1   \n",
       "2                 4            5                           0   \n",
       "3                 4            2                          11   \n",
       "4                 3            3                           0   \n",
       "\n",
       "   Arrival Delay in Minutes             satisfaction  \n",
       "0                      18.0  neutral or dissatisfied  \n",
       "1                       6.0  neutral or dissatisfied  \n",
       "2                       0.0                satisfied  \n",
       "3                       9.0  neutral or dissatisfied  \n",
       "4                       0.0                satisfied  \n",
       "\n",
       "[5 rows x 25 columns]"
      ]
     },
     "execution_count": 3,
     "metadata": {},
     "output_type": "execute_result"
    }
   ],
   "source": [
    "dataset.head()"
   ]
  },
  {
   "cell_type": "code",
   "execution_count": 4,
   "metadata": {},
   "outputs": [
    {
     "data": {
      "text/plain": [
       "satisfaction\n",
       "neutral or dissatisfied    58879\n",
       "satisfied                  45025\n",
       "Name: count, dtype: int64"
      ]
     },
     "execution_count": 4,
     "metadata": {},
     "output_type": "execute_result"
    }
   ],
   "source": [
    "dataset['satisfaction'].value_counts()"
   ]
  },
  {
   "cell_type": "markdown",
   "metadata": {},
   "source": [
    "we drop some redundent columns like unnamed and id"
   ]
  },
  {
   "cell_type": "code",
   "execution_count": 5,
   "metadata": {},
   "outputs": [],
   "source": [
    "dataset.drop(columns=['Unnamed: 0', 'id'],inplace=True)"
   ]
  },
  {
   "cell_type": "code",
   "execution_count": 6,
   "metadata": {},
   "outputs": [
    {
     "name": "stdout",
     "output_type": "stream",
     "text": [
      "<class 'pandas.core.frame.DataFrame'>\n",
      "RangeIndex: 103904 entries, 0 to 103903\n",
      "Data columns (total 23 columns):\n",
      " #   Column                             Non-Null Count   Dtype  \n",
      "---  ------                             --------------   -----  \n",
      " 0   Gender                             103904 non-null  object \n",
      " 1   Customer Type                      103904 non-null  object \n",
      " 2   Age                                103904 non-null  int64  \n",
      " 3   Type of Travel                     103904 non-null  object \n",
      " 4   Class                              103904 non-null  object \n",
      " 5   Flight Distance                    103904 non-null  int64  \n",
      " 6   Inflight wifi service              103904 non-null  int64  \n",
      " 7   Departure/Arrival time convenient  103904 non-null  int64  \n",
      " 8   Ease of Online booking             103904 non-null  int64  \n",
      " 9   Gate location                      103904 non-null  int64  \n",
      " 10  Food and drink                     103904 non-null  int64  \n",
      " 11  Online boarding                    103904 non-null  int64  \n",
      " 12  Seat comfort                       103904 non-null  int64  \n",
      " 13  Inflight entertainment             103904 non-null  int64  \n",
      " 14  On-board service                   103904 non-null  int64  \n",
      " 15  Leg room service                   103904 non-null  int64  \n",
      " 16  Baggage handling                   103904 non-null  int64  \n",
      " 17  Checkin service                    103904 non-null  int64  \n",
      " 18  Inflight service                   103904 non-null  int64  \n",
      " 19  Cleanliness                        103904 non-null  int64  \n",
      " 20  Departure Delay in Minutes         103904 non-null  int64  \n",
      " 21  Arrival Delay in Minutes           103594 non-null  float64\n",
      " 22  satisfaction                       103904 non-null  object \n",
      "dtypes: float64(1), int64(17), object(5)\n",
      "memory usage: 18.2+ MB\n"
     ]
    }
   ],
   "source": [
    "dataset.info()"
   ]
  },
  {
   "cell_type": "markdown",
   "metadata": {},
   "source": [
    "Getting some statistical information about the data."
   ]
  },
  {
   "cell_type": "code",
   "execution_count": 7,
   "metadata": {},
   "outputs": [
    {
     "data": {
      "text/html": [
       "<div>\n",
       "<style scoped>\n",
       "    .dataframe tbody tr th:only-of-type {\n",
       "        vertical-align: middle;\n",
       "    }\n",
       "\n",
       "    .dataframe tbody tr th {\n",
       "        vertical-align: top;\n",
       "    }\n",
       "\n",
       "    .dataframe thead th {\n",
       "        text-align: right;\n",
       "    }\n",
       "</style>\n",
       "<table border=\"1\" class=\"dataframe\">\n",
       "  <thead>\n",
       "    <tr style=\"text-align: right;\">\n",
       "      <th></th>\n",
       "      <th>count</th>\n",
       "      <th>mean</th>\n",
       "      <th>std</th>\n",
       "      <th>min</th>\n",
       "      <th>25%</th>\n",
       "      <th>50%</th>\n",
       "      <th>75%</th>\n",
       "      <th>max</th>\n",
       "    </tr>\n",
       "  </thead>\n",
       "  <tbody>\n",
       "    <tr>\n",
       "      <th>Age</th>\n",
       "      <td>103904.0</td>\n",
       "      <td>39.379706</td>\n",
       "      <td>15.114964</td>\n",
       "      <td>7.0</td>\n",
       "      <td>27.0</td>\n",
       "      <td>40.0</td>\n",
       "      <td>51.0</td>\n",
       "      <td>85.0</td>\n",
       "    </tr>\n",
       "    <tr>\n",
       "      <th>Flight Distance</th>\n",
       "      <td>103904.0</td>\n",
       "      <td>1189.448375</td>\n",
       "      <td>997.147281</td>\n",
       "      <td>31.0</td>\n",
       "      <td>414.0</td>\n",
       "      <td>843.0</td>\n",
       "      <td>1743.0</td>\n",
       "      <td>4983.0</td>\n",
       "    </tr>\n",
       "    <tr>\n",
       "      <th>Inflight wifi service</th>\n",
       "      <td>103904.0</td>\n",
       "      <td>2.729683</td>\n",
       "      <td>1.327829</td>\n",
       "      <td>0.0</td>\n",
       "      <td>2.0</td>\n",
       "      <td>3.0</td>\n",
       "      <td>4.0</td>\n",
       "      <td>5.0</td>\n",
       "    </tr>\n",
       "    <tr>\n",
       "      <th>Departure/Arrival time convenient</th>\n",
       "      <td>103904.0</td>\n",
       "      <td>3.060296</td>\n",
       "      <td>1.525075</td>\n",
       "      <td>0.0</td>\n",
       "      <td>2.0</td>\n",
       "      <td>3.0</td>\n",
       "      <td>4.0</td>\n",
       "      <td>5.0</td>\n",
       "    </tr>\n",
       "    <tr>\n",
       "      <th>Ease of Online booking</th>\n",
       "      <td>103904.0</td>\n",
       "      <td>2.756901</td>\n",
       "      <td>1.398929</td>\n",
       "      <td>0.0</td>\n",
       "      <td>2.0</td>\n",
       "      <td>3.0</td>\n",
       "      <td>4.0</td>\n",
       "      <td>5.0</td>\n",
       "    </tr>\n",
       "    <tr>\n",
       "      <th>Gate location</th>\n",
       "      <td>103904.0</td>\n",
       "      <td>2.976883</td>\n",
       "      <td>1.277621</td>\n",
       "      <td>0.0</td>\n",
       "      <td>2.0</td>\n",
       "      <td>3.0</td>\n",
       "      <td>4.0</td>\n",
       "      <td>5.0</td>\n",
       "    </tr>\n",
       "    <tr>\n",
       "      <th>Food and drink</th>\n",
       "      <td>103904.0</td>\n",
       "      <td>3.202129</td>\n",
       "      <td>1.329533</td>\n",
       "      <td>0.0</td>\n",
       "      <td>2.0</td>\n",
       "      <td>3.0</td>\n",
       "      <td>4.0</td>\n",
       "      <td>5.0</td>\n",
       "    </tr>\n",
       "    <tr>\n",
       "      <th>Online boarding</th>\n",
       "      <td>103904.0</td>\n",
       "      <td>3.250375</td>\n",
       "      <td>1.349509</td>\n",
       "      <td>0.0</td>\n",
       "      <td>2.0</td>\n",
       "      <td>3.0</td>\n",
       "      <td>4.0</td>\n",
       "      <td>5.0</td>\n",
       "    </tr>\n",
       "    <tr>\n",
       "      <th>Seat comfort</th>\n",
       "      <td>103904.0</td>\n",
       "      <td>3.439396</td>\n",
       "      <td>1.319088</td>\n",
       "      <td>0.0</td>\n",
       "      <td>2.0</td>\n",
       "      <td>4.0</td>\n",
       "      <td>5.0</td>\n",
       "      <td>5.0</td>\n",
       "    </tr>\n",
       "    <tr>\n",
       "      <th>Inflight entertainment</th>\n",
       "      <td>103904.0</td>\n",
       "      <td>3.358158</td>\n",
       "      <td>1.332991</td>\n",
       "      <td>0.0</td>\n",
       "      <td>2.0</td>\n",
       "      <td>4.0</td>\n",
       "      <td>4.0</td>\n",
       "      <td>5.0</td>\n",
       "    </tr>\n",
       "    <tr>\n",
       "      <th>On-board service</th>\n",
       "      <td>103904.0</td>\n",
       "      <td>3.382363</td>\n",
       "      <td>1.288354</td>\n",
       "      <td>0.0</td>\n",
       "      <td>2.0</td>\n",
       "      <td>4.0</td>\n",
       "      <td>4.0</td>\n",
       "      <td>5.0</td>\n",
       "    </tr>\n",
       "    <tr>\n",
       "      <th>Leg room service</th>\n",
       "      <td>103904.0</td>\n",
       "      <td>3.351055</td>\n",
       "      <td>1.315605</td>\n",
       "      <td>0.0</td>\n",
       "      <td>2.0</td>\n",
       "      <td>4.0</td>\n",
       "      <td>4.0</td>\n",
       "      <td>5.0</td>\n",
       "    </tr>\n",
       "    <tr>\n",
       "      <th>Baggage handling</th>\n",
       "      <td>103904.0</td>\n",
       "      <td>3.631833</td>\n",
       "      <td>1.180903</td>\n",
       "      <td>1.0</td>\n",
       "      <td>3.0</td>\n",
       "      <td>4.0</td>\n",
       "      <td>5.0</td>\n",
       "      <td>5.0</td>\n",
       "    </tr>\n",
       "    <tr>\n",
       "      <th>Checkin service</th>\n",
       "      <td>103904.0</td>\n",
       "      <td>3.304290</td>\n",
       "      <td>1.265396</td>\n",
       "      <td>0.0</td>\n",
       "      <td>3.0</td>\n",
       "      <td>3.0</td>\n",
       "      <td>4.0</td>\n",
       "      <td>5.0</td>\n",
       "    </tr>\n",
       "    <tr>\n",
       "      <th>Inflight service</th>\n",
       "      <td>103904.0</td>\n",
       "      <td>3.640428</td>\n",
       "      <td>1.175663</td>\n",
       "      <td>0.0</td>\n",
       "      <td>3.0</td>\n",
       "      <td>4.0</td>\n",
       "      <td>5.0</td>\n",
       "      <td>5.0</td>\n",
       "    </tr>\n",
       "    <tr>\n",
       "      <th>Cleanliness</th>\n",
       "      <td>103904.0</td>\n",
       "      <td>3.286351</td>\n",
       "      <td>1.312273</td>\n",
       "      <td>0.0</td>\n",
       "      <td>2.0</td>\n",
       "      <td>3.0</td>\n",
       "      <td>4.0</td>\n",
       "      <td>5.0</td>\n",
       "    </tr>\n",
       "    <tr>\n",
       "      <th>Departure Delay in Minutes</th>\n",
       "      <td>103904.0</td>\n",
       "      <td>14.815618</td>\n",
       "      <td>38.230901</td>\n",
       "      <td>0.0</td>\n",
       "      <td>0.0</td>\n",
       "      <td>0.0</td>\n",
       "      <td>12.0</td>\n",
       "      <td>1592.0</td>\n",
       "    </tr>\n",
       "    <tr>\n",
       "      <th>Arrival Delay in Minutes</th>\n",
       "      <td>103594.0</td>\n",
       "      <td>15.178678</td>\n",
       "      <td>38.698682</td>\n",
       "      <td>0.0</td>\n",
       "      <td>0.0</td>\n",
       "      <td>0.0</td>\n",
       "      <td>13.0</td>\n",
       "      <td>1584.0</td>\n",
       "    </tr>\n",
       "  </tbody>\n",
       "</table>\n",
       "</div>"
      ],
      "text/plain": [
       "                                      count         mean         std   min  \\\n",
       "Age                                103904.0    39.379706   15.114964   7.0   \n",
       "Flight Distance                    103904.0  1189.448375  997.147281  31.0   \n",
       "Inflight wifi service              103904.0     2.729683    1.327829   0.0   \n",
       "Departure/Arrival time convenient  103904.0     3.060296    1.525075   0.0   \n",
       "Ease of Online booking             103904.0     2.756901    1.398929   0.0   \n",
       "Gate location                      103904.0     2.976883    1.277621   0.0   \n",
       "Food and drink                     103904.0     3.202129    1.329533   0.0   \n",
       "Online boarding                    103904.0     3.250375    1.349509   0.0   \n",
       "Seat comfort                       103904.0     3.439396    1.319088   0.0   \n",
       "Inflight entertainment             103904.0     3.358158    1.332991   0.0   \n",
       "On-board service                   103904.0     3.382363    1.288354   0.0   \n",
       "Leg room service                   103904.0     3.351055    1.315605   0.0   \n",
       "Baggage handling                   103904.0     3.631833    1.180903   1.0   \n",
       "Checkin service                    103904.0     3.304290    1.265396   0.0   \n",
       "Inflight service                   103904.0     3.640428    1.175663   0.0   \n",
       "Cleanliness                        103904.0     3.286351    1.312273   0.0   \n",
       "Departure Delay in Minutes         103904.0    14.815618   38.230901   0.0   \n",
       "Arrival Delay in Minutes           103594.0    15.178678   38.698682   0.0   \n",
       "\n",
       "                                     25%    50%     75%     max  \n",
       "Age                                 27.0   40.0    51.0    85.0  \n",
       "Flight Distance                    414.0  843.0  1743.0  4983.0  \n",
       "Inflight wifi service                2.0    3.0     4.0     5.0  \n",
       "Departure/Arrival time convenient    2.0    3.0     4.0     5.0  \n",
       "Ease of Online booking               2.0    3.0     4.0     5.0  \n",
       "Gate location                        2.0    3.0     4.0     5.0  \n",
       "Food and drink                       2.0    3.0     4.0     5.0  \n",
       "Online boarding                      2.0    3.0     4.0     5.0  \n",
       "Seat comfort                         2.0    4.0     5.0     5.0  \n",
       "Inflight entertainment               2.0    4.0     4.0     5.0  \n",
       "On-board service                     2.0    4.0     4.0     5.0  \n",
       "Leg room service                     2.0    4.0     4.0     5.0  \n",
       "Baggage handling                     3.0    4.0     5.0     5.0  \n",
       "Checkin service                      3.0    3.0     4.0     5.0  \n",
       "Inflight service                     3.0    4.0     5.0     5.0  \n",
       "Cleanliness                          2.0    3.0     4.0     5.0  \n",
       "Departure Delay in Minutes           0.0    0.0    12.0  1592.0  \n",
       "Arrival Delay in Minutes             0.0    0.0    13.0  1584.0  "
      ]
     },
     "execution_count": 7,
     "metadata": {},
     "output_type": "execute_result"
    }
   ],
   "source": [
    "dataset.describe().T"
   ]
  },
  {
   "cell_type": "markdown",
   "metadata": {},
   "source": [
    "checking for null entries in the dataframe."
   ]
  },
  {
   "cell_type": "code",
   "execution_count": 8,
   "metadata": {},
   "outputs": [
    {
     "data": {
      "text/plain": [
       "Gender                                 0\n",
       "Customer Type                          0\n",
       "Age                                    0\n",
       "Type of Travel                         0\n",
       "Class                                  0\n",
       "Flight Distance                        0\n",
       "Inflight wifi service                  0\n",
       "Departure/Arrival time convenient      0\n",
       "Ease of Online booking                 0\n",
       "Gate location                          0\n",
       "Food and drink                         0\n",
       "Online boarding                        0\n",
       "Seat comfort                           0\n",
       "Inflight entertainment                 0\n",
       "On-board service                       0\n",
       "Leg room service                       0\n",
       "Baggage handling                       0\n",
       "Checkin service                        0\n",
       "Inflight service                       0\n",
       "Cleanliness                            0\n",
       "Departure Delay in Minutes             0\n",
       "Arrival Delay in Minutes             310\n",
       "satisfaction                           0\n",
       "dtype: int64"
      ]
     },
     "execution_count": 8,
     "metadata": {},
     "output_type": "execute_result"
    }
   ],
   "source": [
    "dataset.isna().sum()"
   ]
  },
  {
   "cell_type": "markdown",
   "metadata": {},
   "source": [
    "There are 310 null entries in the column 'Arrival Delay in Minutes'. This can be dropped as there is ample of data to train an ANN model."
   ]
  },
  {
   "cell_type": "markdown",
   "metadata": {},
   "source": [
    "we remove the rows with missing values "
   ]
  },
  {
   "cell_type": "code",
   "execution_count": 9,
   "metadata": {},
   "outputs": [],
   "source": [
    "dataset.dropna(inplace=True)"
   ]
  },
  {
   "cell_type": "markdown",
   "metadata": {},
   "source": [
    "Getting shape, non-null count and data type for the dataset"
   ]
  },
  {
   "cell_type": "code",
   "execution_count": 10,
   "metadata": {},
   "outputs": [],
   "source": [
    "# Label Endcoding the categorical columns \n",
    "for i in dataset.select_dtypes(include=object):\n",
    "    encoder = LabelEncoder()\n",
    "    dataset[i] = encoder.fit_transform(dataset[i])"
   ]
  },
  {
   "cell_type": "code",
   "execution_count": 11,
   "metadata": {},
   "outputs": [
    {
     "data": {
      "text/plain": [
       "satisfaction\n",
       "0    58697\n",
       "1    44897\n",
       "Name: count, dtype: int64"
      ]
     },
     "execution_count": 11,
     "metadata": {},
     "output_type": "execute_result"
    }
   ],
   "source": [
    "dataset['satisfaction'].value_counts()"
   ]
  },
  {
   "cell_type": "markdown",
   "metadata": {},
   "source": [
    "Getting the features and target varibale. "
   ]
  },
  {
   "cell_type": "code",
   "execution_count": 12,
   "metadata": {},
   "outputs": [],
   "source": [
    "# Features. \n",
    "X = dataset.drop(columns=['satisfaction'])\n",
    "\n",
    "# Target Variable.\n",
    "y = dataset['satisfaction']"
   ]
  },
  {
   "cell_type": "markdown",
   "metadata": {},
   "source": [
    "Splitting the data into testing and training data."
   ]
  },
  {
   "cell_type": "code",
   "execution_count": 13,
   "metadata": {},
   "outputs": [],
   "source": [
    "X_train, X_test, y_train, y_test = train_test_split(X, y, test_size=0.3, random_state=24)"
   ]
  },
  {
   "cell_type": "code",
   "execution_count": 14,
   "metadata": {},
   "outputs": [],
   "source": [
    "# function to scale the training and testing features. \n",
    "\n",
    "def standardize(X_train,X_test):\n",
    "\n",
    "    scalar = StandardScaler()\n",
    "\n",
    "    X_train_scaled = scalar.fit_transform(X_train)\n",
    "    X_test_scaled = scalar.fit_transform(X_test)\n",
    "\n",
    "    return X_train_scaled,X_test_scaled"
   ]
  },
  {
   "cell_type": "code",
   "execution_count": 15,
   "metadata": {},
   "outputs": [],
   "source": [
    "X_train_scaled,X_test_scaled = standardize(X_train,X_test)"
   ]
  },
  {
   "cell_type": "markdown",
   "metadata": {},
   "source": [
    "# Model Building "
   ]
  },
  {
   "cell_type": "markdown",
   "metadata": {},
   "source": [
    "To build the ANN Model it is often recommended to experiment and check the accuracy of the model. What if there can be a process by which we can get a basic model as a starting point?"
   ]
  },
  {
   "cell_type": "markdown",
   "metadata": {},
   "source": [
    "We can use 'KerasTuner' as external package (for keras) desined for hyperparmeter tuning an ANN model to get a basic ANN model. "
   ]
  },
  {
   "cell_type": "markdown",
   "metadata": {},
   "source": [
    "About KerasTuner from the package website.\n",
    "\n",
    "KerasTuner is an easy-to-use, scalable hyperparameter optimization framework that solves the pain points of hyperparameter search. Easily configure your search space with a define-by-run syntax, then leverage one of the available search algorithms to find the best hyperparameter values for your models. KerasTuner comes with Bayesian Optimization, Hyperband, and Random Search algorithms built-in, and is also designed to be easy for researchers to extend in order to experiment with new search algorithms."
   ]
  },
  {
   "cell_type": "markdown",
   "metadata": {},
   "source": [
    "Now we make a function to get the basic architecture for the network"
   ]
  },
  {
   "cell_type": "code",
   "execution_count": 16,
   "metadata": {},
   "outputs": [],
   "source": [
    "# Function for hyperparemeter search in keras_tuner \n",
    "\n",
    "def build_model(hp):\n",
    "\n",
    "    # Using the sequential function\n",
    "    model = Sequential()\n",
    "\n",
    "    # For counter 0 the loop adds the input layer for counter >0 the loop adds hidden layers  \n",
    "    counter = 0\n",
    "\n",
    "    for i in range(hp.Int('num_layers',min_value = 1,max_value = 5)):\n",
    "\n",
    "        if counter == 0:\n",
    "            \n",
    "            # Input Layer\n",
    "            model.add(\n",
    "                Dense(\n",
    "                    hp.Int('units'+str(i),min_value = 8,max_value = 216,step = 8),\n",
    "                    activation= hp.Choice('activation'+ str(i),values = ['relu','tanh','sigmoid','swish']),\n",
    "                    input_dim = 22\n",
    "                    )\n",
    "                )\n",
    "            # Adding a batch normalization layer\n",
    "            model.add(BatchNormalization())\n",
    "\n",
    "        else:\n",
    "\n",
    "            # Output Layer\n",
    "            model.add(\n",
    "                Dense(\n",
    "                    hp.Int('units'+str(i),min_value = 8,max_value = 128,step = 8),\n",
    "                    activation = hp.Choice('activation'+str(i),values = ['relu','tanh','sigmoid','swish'])\n",
    "                    )\n",
    "                )\n",
    "            # Adding a batch normalization layer  \n",
    "            model.add(BatchNormalization())\n",
    "            \n",
    "        counter +=1\n",
    "\n",
    "    # Outplut layer \n",
    "    model.add(Dense(1,activation = 'sigmoid'))\n",
    "\n",
    "    # Compliling the model\n",
    "    model.compile(optimizer = 'adam',\n",
    "                  loss = 'binary_crossentropy',\n",
    "                  metrics = ['accuracy']\n",
    "                  )\n",
    "\n",
    "    # Returning the model\n",
    "    return model\n"
   ]
  },
  {
   "cell_type": "code",
   "execution_count": 17,
   "metadata": {},
   "outputs": [],
   "source": [
    "# Creating a random search object, setting the maximimum number of trails to 10.\n",
    "tuner = kt.RandomSearch(build_model,objective='val_accuracy',max_trials=10,directory = 'mydir6')"
   ]
  },
  {
   "cell_type": "code",
   "execution_count": 18,
   "metadata": {},
   "outputs": [
    {
     "name": "stdout",
     "output_type": "stream",
     "text": [
      "Trial 10 Complete [00h 00m 43s]\n",
      "val_accuracy: 0.9574310779571533\n",
      "\n",
      "Best val_accuracy So Far: 0.9577528238296509\n",
      "Total elapsed time: 00h 06m 50s\n"
     ]
    }
   ],
   "source": [
    "# Searching for the best model.\n",
    "tuner.search(X_train_scaled,y_train,epochs = 5,validation_data = (X_test_scaled,y_test),batch_size=32,shuffle = True)"
   ]
  },
  {
   "cell_type": "code",
   "execution_count": 19,
   "metadata": {},
   "outputs": [],
   "source": [
    "# Getting the best model\n",
    "model1 = tuner.get_best_models(num_models=1)[0]"
   ]
  },
  {
   "cell_type": "code",
   "execution_count": 20,
   "metadata": {},
   "outputs": [
    {
     "name": "stdout",
     "output_type": "stream",
     "text": [
      "Results summary\n",
      "Results in mydir6\\untitled_project\n",
      "Showing 1 best trials\n",
      "Objective(name=\"val_accuracy\", direction=\"max\")\n",
      "\n",
      "Trial 01 summary\n",
      "Hyperparameters:\n",
      "num_layers: 4\n",
      "units0: 152\n",
      "activation0: swish\n",
      "units1: 104\n",
      "activation1: sigmoid\n",
      "units2: 72\n",
      "activation2: relu\n",
      "units3: 128\n",
      "activation3: sigmoid\n",
      "Score: 0.9577528238296509\n"
     ]
    }
   ],
   "source": [
    "# Getting the architecture of the best model except the output layer.\n",
    "tuner.results_summary(num_trials=1)"
   ]
  },
  {
   "cell_type": "code",
   "execution_count": 21,
   "metadata": {},
   "outputs": [
    {
     "name": "stdout",
     "output_type": "stream",
     "text": [
      "Model: \"sequential\"\n",
      "_________________________________________________________________\n",
      " Layer (type)                Output Shape              Param #   \n",
      "=================================================================\n",
      " dense (Dense)               (None, 152)               3496      \n",
      "                                                                 \n",
      " batch_normalization (Batch  (None, 152)               608       \n",
      " Normalization)                                                  \n",
      "                                                                 \n",
      " dense_1 (Dense)             (None, 104)               15912     \n",
      "                                                                 \n",
      " batch_normalization_1 (Bat  (None, 104)               416       \n",
      " chNormalization)                                                \n",
      "                                                                 \n",
      " dense_2 (Dense)             (None, 72)                7560      \n",
      "                                                                 \n",
      " batch_normalization_2 (Bat  (None, 72)                288       \n",
      " chNormalization)                                                \n",
      "                                                                 \n",
      " dense_3 (Dense)             (None, 128)               9344      \n",
      "                                                                 \n",
      " batch_normalization_3 (Bat  (None, 128)               512       \n",
      " chNormalization)                                                \n",
      "                                                                 \n",
      " dense_4 (Dense)             (None, 1)                 129       \n",
      "                                                                 \n",
      "=================================================================\n",
      "Total params: 38265 (149.47 KB)\n",
      "Trainable params: 37353 (145.91 KB)\n",
      "Non-trainable params: 912 (3.56 KB)\n",
      "_________________________________________________________________\n"
     ]
    }
   ],
   "source": [
    "# Getting the model summary. \n",
    "model1.summary()"
   ]
  },
  {
   "cell_type": "code",
   "execution_count": 22,
   "metadata": {},
   "outputs": [
    {
     "name": "stdout",
     "output_type": "stream",
     "text": [
      "Epoch 6/20\n",
      "2267/2267 [==============================] - 11s 4ms/step - loss: 0.1115 - accuracy: 0.9546 - val_loss: 0.1015 - val_accuracy: 0.9569\n",
      "Epoch 7/20\n",
      "2267/2267 [==============================] - 8s 3ms/step - loss: 0.1082 - accuracy: 0.9561 - val_loss: 0.0970 - val_accuracy: 0.9579\n",
      "Epoch 8/20\n",
      "2267/2267 [==============================] - 8s 3ms/step - loss: 0.1051 - accuracy: 0.9567 - val_loss: 0.0943 - val_accuracy: 0.9597\n",
      "Epoch 9/20\n",
      "2267/2267 [==============================] - 8s 4ms/step - loss: 0.1005 - accuracy: 0.9585 - val_loss: 0.0937 - val_accuracy: 0.9593\n",
      "Epoch 10/20\n",
      "2267/2267 [==============================] - 8s 4ms/step - loss: 0.0996 - accuracy: 0.9582 - val_loss: 0.0934 - val_accuracy: 0.9606\n",
      "Epoch 11/20\n",
      "2267/2267 [==============================] - 8s 4ms/step - loss: 0.0968 - accuracy: 0.9597 - val_loss: 0.0916 - val_accuracy: 0.9606\n",
      "Epoch 12/20\n",
      "2267/2267 [==============================] - 8s 4ms/step - loss: 0.0949 - accuracy: 0.9594 - val_loss: 0.0912 - val_accuracy: 0.9610\n",
      "Epoch 13/20\n",
      "2267/2267 [==============================] - 8s 4ms/step - loss: 0.0919 - accuracy: 0.9607 - val_loss: 0.0899 - val_accuracy: 0.9614\n",
      "Epoch 14/20\n",
      "2267/2267 [==============================] - 8s 4ms/step - loss: 0.0896 - accuracy: 0.9620 - val_loss: 0.0886 - val_accuracy: 0.9626\n",
      "Epoch 15/20\n",
      "2267/2267 [==============================] - 8s 4ms/step - loss: 0.0899 - accuracy: 0.9616 - val_loss: 0.0915 - val_accuracy: 0.9614\n",
      "Epoch 16/20\n",
      "2267/2267 [==============================] - 8s 4ms/step - loss: 0.0878 - accuracy: 0.9627 - val_loss: 0.0863 - val_accuracy: 0.9628\n",
      "Epoch 17/20\n",
      "2267/2267 [==============================] - 8s 4ms/step - loss: 0.0878 - accuracy: 0.9629 - val_loss: 0.0881 - val_accuracy: 0.9610\n",
      "Epoch 18/20\n",
      "2267/2267 [==============================] - 8s 4ms/step - loss: 0.0852 - accuracy: 0.9638 - val_loss: 0.0864 - val_accuracy: 0.9632\n",
      "Epoch 19/20\n",
      "2267/2267 [==============================] - 8s 4ms/step - loss: 0.0847 - accuracy: 0.9637 - val_loss: 0.0883 - val_accuracy: 0.9629\n",
      "Epoch 20/20\n",
      "2267/2267 [==============================] - 8s 4ms/step - loss: 0.0846 - accuracy: 0.9640 - val_loss: 0.0860 - val_accuracy: 0.9629\n"
     ]
    }
   ],
   "source": [
    "# Training the model after the intial 5 epochs in keras tuner\n",
    "history1 = model1.fit(X_train_scaled,y_train,batch_size=32,epochs=20,initial_epoch=5,validation_data=(X_test_scaled,y_test),shuffle=True)"
   ]
  },
  {
   "cell_type": "code",
   "execution_count": 23,
   "metadata": {},
   "outputs": [],
   "source": [
    "# Function to plot the accurary and loss graphs.\n",
    "def ann_acc_loss_plts(history):\n",
    "    plt.figure(figsize=(17,4))\n",
    "    plt.subplot(1,2,1)\n",
    "    plt.plot(history.history['accuracy'])\n",
    "    plt.plot(history.history['val_accuracy'])\n",
    "    plt.title('Model Accuracy')\n",
    "    plt.ylabel('accuracy')\n",
    "    plt.xlabel('epoch')\n",
    "    plt.legend(['train', 'test'], loc='upper left')\n",
    "\n",
    "    # summarize history for loss\n",
    "    plt.subplot(1,2,2)\n",
    "    plt.plot(history.history['loss'])\n",
    "    plt.plot(history.history['val_loss'])\n",
    "    plt.title('Model Loss')\n",
    "    plt.ylabel('loss')\n",
    "    plt.xlabel('epoch')\n",
    "    plt.legend(['train', 'test'], loc='upper left')\n",
    "    plt.tight_layout()\n",
    "    plt.show()"
   ]
  },
  {
   "cell_type": "code",
   "execution_count": 24,
   "metadata": {},
   "outputs": [
    {
     "data": {
      "image/png": "[encoded data removed]",
      "text/plain": [
       "<Figure size 1700x400 with 2 Axes>"
      ]
     },
     "metadata": {},
     "output_type": "display_data"
    }
   ],
   "source": [
    "# Visulizing the loss and val accuracy \n",
    "ann_acc_loss_plts(history1)"
   ]
  },
  {
   "cell_type": "code",
   "execution_count": 25,
   "metadata": {},
   "outputs": [
    {
     "name": "stdout",
     "output_type": "stream",
     "text": [
      "972/972 [==============================] - 2s 2ms/step\n"
     ]
    }
   ],
   "source": [
    "# Predicting the customer satifaction \n",
    "y_pred = model1.predict(X_test_scaled)\n",
    "\n",
    "# COnverting the probabilities given by sigmoid function into interger values\n",
    "y_pred = np.array(y_pred > 0.5).astype(np.int64)"
   ]
  },
  {
   "cell_type": "markdown",
   "metadata": {},
   "source": [
    "Performance Metrics."
   ]
  },
  {
   "cell_type": "code",
   "execution_count": 26,
   "metadata": {},
   "outputs": [
    {
     "name": "stdout",
     "output_type": "stream",
     "text": [
      "Accuracy Score:\n",
      " 0.9629009942404839 \n",
      "\n",
      "Classification Report:\n",
      "               precision    recall  f1-score   support\n",
      "\n",
      "           0       0.96      0.98      0.97     17643\n",
      "           1       0.97      0.94      0.96     13436\n",
      "\n",
      "    accuracy                           0.96     31079\n",
      "   macro avg       0.96      0.96      0.96     31079\n",
      "weighted avg       0.96      0.96      0.96     31079\n",
      " \n",
      "\n"
     ]
    }
   ],
   "source": [
    "# Accurary Score \n",
    "print('Accuracy Score:\\n',accuracy_score(y_test,y_pred),'\\n')\n",
    "\n",
    "# Classification Report\n",
    "print('Classification Report:\\n',classification_report(y_test,y_pred),'\\n')"
   ]
  },
  {
   "cell_type": "code",
   "execution_count": 27,
   "metadata": {},
   "outputs": [
    {
     "data": {
      "image/png": "[encoded data removed]",
      "text/plain": [
       "<Figure size 640x480 with 2 Axes>"
      ]
     },
     "metadata": {},
     "output_type": "display_data"
    }
   ],
   "source": [
    "# Confusion Matrix\n",
    "# Plotting the confusion matrix \n",
    "sns.heatmap(data=confusion_matrix(y_test,y_pred),annot=True, fmt='',cmap=\"Blues\",\n",
    "            xticklabels=['Neutral or Dissatisfied','Satisfied'],\n",
    "            yticklabels=['Neutral or Dissatisfied','Satisfied']\n",
    "            )\n",
    "plt.title('Confusion Matrix')\n",
    "plt.xlabel('Predicted')\n",
    "plt.ylabel('Actual')\n",
    "plt.show()"
   ]
  },
  {
   "cell_type": "markdown",
   "metadata": {},
   "source": [
    "This Method can a lot in automating the model Aartificial Neural Network model building process. "
   ]
  },
  {
   "cell_type": "markdown",
   "metadata": {},
   "source": [
    "Now a model we compare this with a model built by experimenting."
   ]
  },
  {
   "cell_type": "code",
   "execution_count": 28,
   "metadata": {},
   "outputs": [
    {
     "name": "stdout",
     "output_type": "stream",
     "text": [
      "Model: \"sequential_1\"\n",
      "_________________________________________________________________\n",
      " Layer (type)                Output Shape              Param #   \n",
      "=================================================================\n",
      " First_Hidden_layer (Dense)  (None, 128)               2944      \n",
      "                                                                 \n",
      " batch_normalization_4 (Bat  (None, 128)               512       \n",
      " chNormalization)                                                \n",
      "                                                                 \n",
      " Second_Hidden_layer (Dense  (None, 64)                8256      \n",
      " )                                                               \n",
      "                                                                 \n",
      " batch_normalization_5 (Bat  (None, 64)                256       \n",
      " chNormalization)                                                \n",
      "                                                                 \n",
      " Third_Hidden_layer (Dense)  (None, 64)                4160      \n",
      "                                                                 \n",
      " batch_normalization_6 (Bat  (None, 64)                256       \n",
      " chNormalization)                                                \n",
      "                                                                 \n",
      " Forth_Hidden_layer (Dense)  (None, 32)                2080      \n",
      "                                                                 \n",
      " batch_normalization_7 (Bat  (None, 32)                128       \n",
      " chNormalization)                                                \n",
      "                                                                 \n",
      " Output_Layer (Dense)        (None, 1)                 33        \n",
      "                                                                 \n",
      "=================================================================\n",
      "Total params: 18625 (72.75 KB)\n",
      "Trainable params: 18049 (70.50 KB)\n",
      "Non-trainable params: 576 (2.25 KB)\n",
      "_________________________________________________________________\n"
     ]
    }
   ],
   "source": [
    "# Creating a Sequential model\n",
    "model2 = Sequential()\n",
    "\n",
    "# Input Layer\n",
    "model2.add(Dense(128, name= 'First_Hidden_layer', input_dim=22, activation=\"swish\"))\n",
    "model2.add(BatchNormalization())\n",
    "\n",
    "# Hidden Layers\n",
    "model2.add(Dense(64, name= 'Second_Hidden_layer', activation=\"swish\"))\n",
    "model2.add(BatchNormalization())\n",
    "\n",
    "model2.add(Dense(64, name= 'Third_Hidden_layer', activation=\"swish\"))\n",
    "model2.add(BatchNormalization())\n",
    "\n",
    "model2.add(Dense(32, name= 'Forth_Hidden_layer', activation=\"swish\") )\n",
    "model2.add(BatchNormalization())\n",
    "\n",
    "# Output Layer\n",
    "model2.add(Dense(1,name = 'Output_Layer',activation = 'sigmoid'))\n",
    "\n",
    "# Compliing the model\n",
    "model2.compile(loss=\"binary_crossentropy\", optimizer=\"adam\", metrics=[\"accuracy\"])\n",
    "\n",
    "# Getting the Summanry for the model\n",
    "model2.summary()"
   ]
  },
  {
   "cell_type": "code",
   "execution_count": 29,
   "metadata": {},
   "outputs": [
    {
     "name": "stdout",
     "output_type": "stream",
     "text": [
      "Epoch 1/20\n",
      "2267/2267 [==============================] - 11s 4ms/step - loss: 0.1915 - accuracy: 0.9226 - val_loss: 0.1308 - val_accuracy: 0.9435\n",
      "Epoch 2/20\n",
      "2267/2267 [==============================] - 9s 4ms/step - loss: 0.1477 - accuracy: 0.9398 - val_loss: 0.1167 - val_accuracy: 0.9520\n",
      "Epoch 3/20\n",
      "2267/2267 [==============================] - 8s 4ms/step - loss: 0.1316 - accuracy: 0.9464 - val_loss: 0.1037 - val_accuracy: 0.9560\n",
      "Epoch 4/20\n",
      "2267/2267 [==============================] - 8s 4ms/step - loss: 0.1190 - accuracy: 0.9509 - val_loss: 0.1021 - val_accuracy: 0.9570\n",
      "Epoch 5/20\n",
      "2267/2267 [==============================] - 8s 4ms/step - loss: 0.1143 - accuracy: 0.9526 - val_loss: 0.1022 - val_accuracy: 0.9572\n",
      "Epoch 6/20\n",
      "2267/2267 [==============================] - 8s 4ms/step - loss: 0.1088 - accuracy: 0.9554 - val_loss: 0.0969 - val_accuracy: 0.9594\n",
      "Epoch 7/20\n",
      "2267/2267 [==============================] - 8s 4ms/step - loss: 0.1084 - accuracy: 0.9559 - val_loss: 0.0977 - val_accuracy: 0.9588\n",
      "Epoch 8/20\n",
      "2267/2267 [==============================] - 8s 3ms/step - loss: 0.1035 - accuracy: 0.9566 - val_loss: 0.0954 - val_accuracy: 0.9588\n",
      "Epoch 9/20\n",
      "2267/2267 [==============================] - 8s 3ms/step - loss: 0.1013 - accuracy: 0.9574 - val_loss: 0.0949 - val_accuracy: 0.9597\n",
      "Epoch 10/20\n",
      "2267/2267 [==============================] - 7s 3ms/step - loss: 0.0993 - accuracy: 0.9592 - val_loss: 0.0898 - val_accuracy: 0.9615\n",
      "Epoch 11/20\n",
      "2267/2267 [==============================] - 8s 3ms/step - loss: 0.0951 - accuracy: 0.9601 - val_loss: 0.0896 - val_accuracy: 0.9620\n",
      "Epoch 12/20\n",
      "2267/2267 [==============================] - 7s 3ms/step - loss: 0.0950 - accuracy: 0.9607 - val_loss: 0.0886 - val_accuracy: 0.9609\n",
      "Epoch 13/20\n",
      "2267/2267 [==============================] - 8s 3ms/step - loss: 0.0943 - accuracy: 0.9597 - val_loss: 0.0888 - val_accuracy: 0.9616\n",
      "Epoch 14/20\n",
      "2267/2267 [==============================] - 8s 3ms/step - loss: 0.0936 - accuracy: 0.9605 - val_loss: 0.0878 - val_accuracy: 0.9618\n",
      "Epoch 15/20\n",
      "2267/2267 [==============================] - 8s 4ms/step - loss: 0.0919 - accuracy: 0.9613 - val_loss: 0.0870 - val_accuracy: 0.9623\n",
      "Epoch 16/20\n",
      "2267/2267 [==============================] - 9s 4ms/step - loss: 0.0909 - accuracy: 0.9619 - val_loss: 0.0870 - val_accuracy: 0.9626\n",
      "Epoch 17/20\n",
      "2267/2267 [==============================] - 8s 4ms/step - loss: 0.0894 - accuracy: 0.9621 - val_loss: 0.0852 - val_accuracy: 0.9633\n",
      "Epoch 18/20\n",
      "2267/2267 [==============================] - 8s 3ms/step - loss: 0.0876 - accuracy: 0.9624 - val_loss: 0.0875 - val_accuracy: 0.9621\n",
      "Epoch 19/20\n",
      "2267/2267 [==============================] - 8s 4ms/step - loss: 0.0870 - accuracy: 0.9625 - val_loss: 0.0854 - val_accuracy: 0.9633\n",
      "Epoch 20/20\n",
      "2267/2267 [==============================] - 8s 4ms/step - loss: 0.0877 - accuracy: 0.9628 - val_loss: 0.0864 - val_accuracy: 0.9629\n"
     ]
    }
   ],
   "source": [
    "# Tranning the Model\n",
    "history2 = model2.fit(X_train_scaled,y_train,validation_data=(X_test_scaled,y_test),epochs=20,batch_size=32,shuffle=True)"
   ]
  },
  {
   "cell_type": "code",
   "execution_count": 30,
   "metadata": {},
   "outputs": [
    {
     "data": {
      "image/png": "[encoded data removed]",
      "text/plain": [
       "<Figure size 1700x400 with 2 Axes>"
      ]
     },
     "metadata": {},
     "output_type": "display_data"
    }
   ],
   "source": [
    "# Visulizing the loss and val accuracy \n",
    "ann_acc_loss_plts(history2)"
   ]
  },
  {
   "cell_type": "code",
   "execution_count": 31,
   "metadata": {},
   "outputs": [
    {
     "name": "stdout",
     "output_type": "stream",
     "text": [
      "972/972 [==============================] - 2s 2ms/step\n"
     ]
    }
   ],
   "source": [
    "# Predicting the customer satifaction \n",
    "y_pred = model2.predict(X_test_scaled)\n",
    "\n",
    "# COnverting the probabilities given by sigmoid function into interger values\n",
    "y_pred = np.array(y_pred > 0.5).astype(np.int64)"
   ]
  },
  {
   "cell_type": "markdown",
   "metadata": {},
   "source": [
    "Performance Metrics."
   ]
  },
  {
   "cell_type": "code",
   "execution_count": 32,
   "metadata": {},
   "outputs": [
    {
     "name": "stdout",
     "output_type": "stream",
     "text": [
      "Accuracy Score:\n",
      " 0.9628688181730429 \n",
      "\n",
      "Classification Report:\n",
      "               precision    recall  f1-score   support\n",
      "\n",
      "           0       0.96      0.98      0.97     17643\n",
      "           1       0.97      0.94      0.96     13436\n",
      "\n",
      "    accuracy                           0.96     31079\n",
      "   macro avg       0.96      0.96      0.96     31079\n",
      "weighted avg       0.96      0.96      0.96     31079\n",
      " \n",
      "\n"
     ]
    }
   ],
   "source": [
    "# Accurary Score \n",
    "print('Accuracy Score:\\n',accuracy_score(y_test,y_pred),'\\n')\n",
    "\n",
    "# Classification Report\n",
    "print('Classification Report:\\n',classification_report(y_test,y_pred),'\\n')"
   ]
  },
  {
   "cell_type": "code",
   "execution_count": 33,
   "metadata": {},
   "outputs": [
    {
     "data": {
      "image/png": "[encoded data removed]",
      "text/plain": [
       "<Figure size 640x480 with 2 Axes>"
      ]
     },
     "metadata": {},
     "output_type": "display_data"
    }
   ],
   "source": [
    "# Plotting the confusion matrix \n",
    "sns.heatmap(data=confusion_matrix(y_test,y_pred),annot=True, fmt='',cmap=\"Blues\",\n",
    "            xticklabels=['Neutral or Dissatisfied','Satisfied'],\n",
    "            yticklabels=['Neutral or Dissatisfied','Satisfied']\n",
    "            )\n",
    "plt.title('Confusion Matrix')\n",
    "plt.xlabel('Predicted')\n",
    "plt.ylabel('Actual')\n",
    "plt.show()"
   ]
  },
  {
   "cell_type": "markdown",
   "metadata": {},
   "source": [
    "It is obsereved that building ANN model using the KerasTuner gave similar results as compared to an experimental model. Using the KerasTuner may benifit the developer by providing a base model to experiment with or can provide with a model which gives a high accuracy with the very first try."
   ]
  }
 ],
 "metadata": {
  "kernelspec": {
   "display_name": "Python 3",
   "language": "python",
   "name": "python3"
  },
  "language_info": {
   "codemirror_mode": {
    "name": "ipython",
    "version": 3
   },
   "file_extension": ".py",
   "mimetype": "text/x-python",
   "name": "python",
   "nbconvert_exporter": "python",
   "pygments_lexer": "ipython3",
   "version": "3.11.4"
  }
 },
 "nbformat": 4,
 "nbformat_minor": 2
}
